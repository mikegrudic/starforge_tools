{
 "cells": [
  {
   "cell_type": "code",
   "execution_count": 1,
   "metadata": {},
   "outputs": [
    {
     "name": "stdout",
     "output_type": "stream",
     "text": [
      "Using matplotlib backend: TkAgg\n",
      "Populating the interactive namespace from numpy and matplotlib\n"
     ]
    },
    {
     "name": "stderr",
     "output_type": "stream",
     "text": [
      "/home/mike/.local/lib/python3.7/site-packages/numba/core/cpu.py:97: UserWarning: Numba extension module 'sdc' failed to load due to 'VersionConflict((numba 0.54.0 (/home/mike/.local/lib/python3.7/site-packages), Requirement.parse('numba<0.52,>=0.51.2')))'.\n",
      "  numba.core.entrypoints.init_all()\n"
     ]
    }
   ],
   "source": [
    "import h5py\n",
    "%pylab\n",
    "from meshoid import Meshoid\n",
    "from scipy.fft import ifftn, fftn, fftfreq\n"
   ]
  },
  {
   "cell_type": "code",
   "execution_count": 5,
   "metadata": {},
   "outputs": [
    {
     "data": {
      "text/plain": [
       "0"
      ]
     },
     "execution_count": 5,
     "metadata": {},
     "output_type": "execute_result"
    }
   ],
   "source": [
    "F = h5py.File(\"../CrunchSnaps/M2e3_R3_S0_T1_B0.01_Res58_n2_sol0.5_42/output/snapshot_100.hdf5\",'r')\n",
    "x = np.array(F[\"PartType0/Coordinates\"])\n",
    "m = np.array(F[\"PartType0/Masses\"])\n",
    "v = np.array(F[\"PartType0/Velocities\"])\n",
    "h = np.array(F[\"PartType0/SmoothingLength\"])\n",
    "density = np.array(F[\"PartType0/Density\"])\n",
    "\n",
    "M = Meshoid(x,m,h)#,boxsize=F[\"Header\"].attrs[\"BoxSize\"],n_jobs=1)\n",
    "res = 256\n",
    "rho = M.DepositToGrid(m,res=res,size=F[\"Header\"].attrs[\"BoxSize\"]*0.2, center=np.repeat(F[\"Header\"].attrs[\"BoxSize\"]/2,3))\n",
    "#print(rho.min())\n",
    "#rhov = np.array([M.DepositToGrid(m*v[:,i],res=res)/rho for i in range(3)])\n",
    "#%timeit rho2 = M.InterpToGrid(density,res=res)\n",
    "\n",
    "vgrid = np.array([M.InterpToGrid(v[:,i],res=res,size=F[\"Header\"].attrs[\"BoxSize\"]*0.2, center=np.repeat(F[\"Header\"].attrs[\"BoxSize\"]/2,3)) for i in range(3)])\n",
    "np.isnan(vgrid).sum()\n",
    "# = np.array([M.DepositToGrid(x[:,i],res=res,method='nearest') for i in range(3)])\n",
    "#rho = M.DepositToGrid(np.array(neF[\"PartType0\"][\"Density\"]),res=res,method='kernel')"
   ]
  },
  {
   "cell_type": "code",
   "execution_count": 8,
   "metadata": {},
   "outputs": [
    {
     "data": {
      "text/plain": [
       "6.0"
      ]
     },
     "execution_count": 8,
     "metadata": {},
     "output_type": "execute_result"
    }
   ],
   "source": [
    "F[\"Header\"].attrs[\"BoxSize\"]*0.2"
   ]
  },
  {
   "cell_type": "code",
   "execution_count": null,
   "metadata": {},
   "outputs": [],
   "source": [
    "%pylab\n",
    "from scipy import interpolate\n",
    "\n",
    "N = 32\n",
    "x1 = np.linspace(0.5/N, 1-0.5/N, N) # original coords                                                                    \n",
    "xx,yy = np.meshgrid(x1,x1)\n",
    "x2 = np.linspace(0.25/N,1-0.25/N, 2*N) # new coords   \n",
    "#xx, yy = np.meshgrid(x1, x1)\n",
    "z = np.sin(xx**2+yy**2)\n",
    "\n",
    "#f = interpolate.interp2d(x, y, z, kind='cubic')\n",
    "\n",
    "import matplotlib.pyplot as plt\n",
    "\n",
    "#xnew = np.arange(-5.0, 5.05, 1e-2)\n",
    "\n",
    "#ynew = np.arange(-5.0, 5.05, 1e-2)\n",
    "\n",
    "znew = interpolate.RectBivariateSpline(x1, x1, z)(x2, x2)\n",
    "plt.imshow(znew)\n",
    "#plt.plot(x, z[0, :], 'ro-', xnew, znew[0, :], 'b-')\n",
    "\n",
    "#plt.show()"
   ]
  },
  {
   "cell_type": "code",
   "execution_count": null,
   "metadata": {},
   "outputs": [],
   "source": [
    "vgrid.max()"
   ]
  },
  {
   "cell_type": "code",
   "execution_count": null,
   "metadata": {},
   "outputs": [],
   "source": [
    "fig, ax = plt.subplots(1,3,figsize=(4,4))\n",
    "#print(rhov.std(), vgrid.std())\n",
    "#ax[0].imshow(rhov[2][:,:,0])\n",
    "#ax[1].imshow(vgrid[2][:,:,0])\n",
    "from meshoid import GridSurfaceDensity, GridSurfaceDensityMultigrid\n",
    "%timeit sigma = GridSurfaceDensity(m, x, h, np.ones(3)*F[\"Header\"].attrs[\"BoxSize\"]/2,F[\"Header\"].attrs[\"BoxSize\"]*0.1, res=2048, box_size=-1,parallel=True)\n",
    "ax[0].imshow(np.log10(sigma))\n",
    "%timeit sigma2 = GridSurfaceDensityMultigrid(m, x, h, np.ones(3)*F[\"Header\"].attrs[\"BoxSize\"]/2,F[\"Header\"].attrs[\"BoxSize\"]*0.1, res=2048, box_size=-1,parallel=True, N_grid_kernel=8)\n",
    "ax[1].imshow(np.log10(sigma2))\n",
    "ax[2].imshow(np.log10(sigma2/sigma))\n",
    "print(np.log10(sigma2/sigma).std())\n",
    "#ax[0].imshow(rho.sum(axis=2))ne\n",
    "#ax[1].imshow(np.log10(M.SurfaceDensity(m,res=256)))\n",
    "#ax[1].imshow(vgrid2[0][:,:,0])\n",
    "#ax[1].imshow(np.log10(M.Slice(density)))"
   ]
  },
  {
   "cell_type": "code",
   "execution_count": null,
   "metadata": {},
   "outputs": [],
   "source": [
    "#vgrid = rhov\n",
    "vk = np.array([fftn(V) for V in vgrid])\n",
    "vkSqr = np.sum(np.abs(vk*vk),axis=0)\n",
    "\n",
    "freqs = fftfreq(res)\n",
    "print(freqs)\n",
    "freq3d = np.array(np.meshgrid(freqs,freqs,freqs,indexing='ij'))\n",
    "intfreq = np.int_(np.around(freq3d*res)+0.5)\n",
    "kSqr = np.sum(np.abs(freq3d)**2,axis=0)\n",
    "intkSqr = np.sum(np.abs(intfreq)**2, axis=0)\n",
    "intk = intkSqr**0.5\n",
    "\n",
    "#intkSqr_u = np.unique(intkSqr)\n",
    "#print(intkSqr_u[:10])\n",
    "kbins = np.arange(100) #np.unique(intkSqr**0.5)\n",
    "#kbins = []; for k in np.sort(intkSqr)[:4]: kbins.append()\n",
    "#kbins = np.logspace(-0.1,3,11)  #np.sort(np.unique(intk))[:1000]*0.99\n",
    "#kbins = kbins + np.eps\n",
    "#kbins = np.insert(kbins,0,0)\n",
    "#kbins[1:] *= (1+1e-15)\n",
    "#kbins[-1] = np.inf\n",
    "from scipy.stats import binned_statistic\n",
    "\n",
    "power_in_bin = binned_statistic(intk.flatten(), vkSqr.flatten(), bins=kbins,statistic='sum')[0]\n",
    "power_spectrum = power_in_bin / np.diff(kbins) # power density in k space\n",
    "power_spectrum *= np.sum(0.5 * m[:,None] * (v/1e3)**2) / power_spectrum.sum()\n",
    "power_spectrum[power_spectrum == 0] = np.nan\n",
    "#k_avg = (kbins[1:)\n",
    "plt.plot(kbins[1:] , kbins[1:]**2 * power_spectrum,markersize=0.1); plt.yscale('log'); plt.xscale('log')\n",
    "plt.xlabel(\"k\")\n",
    "\n",
    "plt.ylabel(\"$k^2 P(k)$\")\n",
    "#vavg = M.ProjectedAverage(v[:,2])"
   ]
  },
  {
   "cell_type": "code",
   "execution_count": null,
   "metadata": {},
   "outputs": [],
   "source": [
    "print(np.unique(intkSqr**0.5)[:100])"
   ]
  },
  {
   "cell_type": "code",
   "execution_count": null,
   "metadata": {},
   "outputs": [],
   "source": [
    "vk = np.array([fftn(V) for V in rhov])\n",
    "vkSqr = np.sum(np.abs(vk*vk),axis=0)\n",
    "\n",
    "freqs = fftfreq(res)\n",
    "freq3d = np.array(np.meshgrid(freqs,freqs,freqs))#,indexing='ij'))\n",
    "intfreq = np.around(freq3d*res)\n",
    "kSqr = np.sum(np.abs(freq3d)**2,axis=0)\n",
    "intkSqr = np.sum(np.abs(intfreq)**2, axis=0)\n",
    "intk = intkSqr**0.5\n",
    "\n",
    "kbins = np.logspace(-0.1,3,51)  #np.sort(np.unique(intk))[:1000]*0.99\n",
    "#kbins = kbins + np.eps\n",
    "#kbins = np.insert(kbins,0,0)\n",
    "#kbins[1:] *= (1+1e-15)\n",
    "#kbins[-1] = np.inf\n",
    "from scipy.stats import binned_statistic\n",
    "\n",
    "\n",
    "plt.plot(kbins[1:] , kbins[1:]**2 * binned_statistic(intk.flatten(), vkSqr.flatten(), bins=kbins,statistic='sum')[0],markersize=0.1); plt.yscale('log'); plt.xscale('log')\n",
    "plt.xlabel(\"k\")\n",
    "\n",
    "plt.ylabel(\"$P(k) k^2$\")\n",
    "#vavg = M.ProjectedAverage(v[:,2])"
   ]
  },
  {
   "cell_type": "code",
   "execution_count": null,
   "metadata": {},
   "outputs": [],
   "source": [
    "np.float64.small"
   ]
  },
  {
   "cell_type": "code",
   "execution_count": null,
   "metadata": {},
   "outputs": [],
   "source": [
    "print(len(np.unique(intk)))"
   ]
  },
  {
   "cell_type": "code",
   "execution_count": null,
   "metadata": {},
   "outputs": [],
   "source": [
    "rhov - vgrid"
   ]
  },
  {
   "cell_type": "code",
   "execution_count": null,
   "metadata": {},
   "outputs": [],
   "source": []
  }
 ],
 "metadata": {
  "kernelspec": {
   "display_name": "Python 3",
   "language": "python",
   "name": "python3"
  },
  "language_info": {
   "codemirror_mode": {
    "name": "ipython",
    "version": 3
   },
   "file_extension": ".py",
   "mimetype": "text/x-python",
   "name": "python",
   "nbconvert_exporter": "python",
   "pygments_lexer": "ipython3",
   "version": "3.7.9"
  }
 },
 "nbformat": 4,
 "nbformat_minor": 4
}
